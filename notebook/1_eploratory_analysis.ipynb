{
 "cells": [
  {
   "cell_type": "code",
   "execution_count": null,
   "metadata": {},
   "outputs": [],
   "source": [
    "# IMPORTS LIBRARY\n",
    "import os\n",
    "import pandas as pd\n",
    "import numpy as np\n",
    "import matplotlib.pyplot as plt\n",
    "import seaborn as sns"
   ]
  },
  {
   "cell_type": "code",
   "execution_count": null,
   "metadata": {},
   "outputs": [],
   "source": [
    "data = os.listdir(\"./data/raw\")\n",
    "print(data)"
   ]
  },
  {
   "cell_type": "code",
   "execution_count": null,
   "metadata": {},
   "outputs": [],
   "source": [
    "for dataset in data:\n",
    "  df = pd.read_csv('./data/raw/' + dataset)\n",
    "  print(df.columns.to_list())"
   ]
  },
  {
   "cell_type": "code",
   "execution_count": null,
   "metadata": {},
   "outputs": [],
   "source": [
    "car = pd.DataFrame()\n",
    "for dataset in data:\n",
    "    path = \"./data/raw/\"+dataset\n",
    "    if \"unclean\" not in dataset:\n",
    "        df = pd.read_csv(path)\n",
    "        df['brand'] = dataset.replace(\".csv\", \"\")\n",
    "        car = pd.concat([car,df])\n",
    "\n",
    "df = car"
   ]
  },
  {
   "cell_type": "code",
   "execution_count": null,
   "metadata": {},
   "outputs": [],
   "source": [
    "df.head()"
   ]
  },
  {
   "cell_type": "code",
   "execution_count": null,
   "metadata": {},
   "outputs": [],
   "source": [
    "print(f'transmission: {df.transmission.unique()}')\n",
    "print(f'fuelType: {df.fuelType.unique()}')"
   ]
  },
  {
   "cell_type": "code",
   "execution_count": null,
   "metadata": {},
   "outputs": [],
   "source": [
    "df = df.replace({\n",
    "  'transmission' : {'Manual' : 0, 'Automatic' : 1, 'Semi-Auto' : 2, 'Other' : 3},\n",
    "  'fuelType' : {'Petrol' : 0, 'Diesel' : 1, 'Hybrid' : 2, 'Electric' : 3, 'Other' : 4}\n",
    "})"
   ]
  },
  {
   "cell_type": "code",
   "execution_count": null,
   "metadata": {},
   "outputs": [],
   "source": [
    "df.head()"
   ]
  },
  {
   "cell_type": "markdown",
   "metadata": {},
   "source": [
    "# Deskripsi Dataset\n",
    "\n",
    "Dataset ini berisi informasi mengenai berbagai atribut mobil yang digunakan untuk keperluan analisis harga mobil.\n",
    "\n",
    "Tabel berikut menjelaskan kolom-kolom yang terdapat dalam dataset ini:\n",
    "\n",
    "| Kolom        | Deskripsi                                                                 |\n",
    "|--------------|---------------------------------------------------------------------------|\n",
    "| model        | Model mobil                                                               |\n",
    "| year         | Tahun pembuatan mobil                                                     |\n",
    "| price        | Harga mobil dalam satuan mata uang tertentu                               |\n",
    "| transmission | Jenis transmisi yang digunakan pada mobil                                 |\n",
    "| mileage      | Jarak tempuh yang telah ditempuh oleh mobil dalam satuan mil              |\n",
    "| fuelType     | Jenis bahan bakar yang digunakan pada mobil                               |\n",
    "| tax          | Pajak tahunan yang harus dibayar untuk mobil                              |\n",
    "| mpg          | Efisiensi bahan bakar dalam mil per galon                                  |\n",
    "| engineSize   | Ukuran mesin mobil dalam liter                                            |\n",
    "| brand        | Brand mobil                                                               |"
   ]
  },
  {
   "cell_type": "code",
   "execution_count": null,
   "metadata": {},
   "outputs": [],
   "source": [
    "sns.heatmap(df.isna().transpose(), cbar=False)"
   ]
  },
  {
   "cell_type": "code",
   "execution_count": null,
   "metadata": {},
   "outputs": [],
   "source": [
    "ax = df.isnull().sum().plot.bar()\n",
    "ax.bar_label(ax.containers[0])\n",
    "plt.show()"
   ]
  },
  {
   "cell_type": "code",
   "execution_count": null,
   "metadata": {},
   "outputs": [],
   "source": [
    "df.describe()"
   ]
  },
  {
   "cell_type": "code",
   "execution_count": null,
   "metadata": {},
   "outputs": [],
   "source": [
    "#check for duplicate\n",
    "df.duplicated().sum()"
   ]
  },
  {
   "cell_type": "code",
   "execution_count": null,
   "metadata": {},
   "outputs": [],
   "source": [
    "# Histogram untuk variabel numerik\n",
    "df.hist(bins=30, figsize=(10, 8))\n",
    "plt.show()"
   ]
  },
  {
   "cell_type": "code",
   "execution_count": null,
   "metadata": {},
   "outputs": [],
   "source": [
    "sns.boxplot(data=df)\n",
    "plt.title('Outlier pada Setiap Fitur')\n",
    "plt.xticks(rotation=45)\n",
    "plt.show()"
   ]
  },
  {
   "cell_type": "code",
   "execution_count": null,
   "metadata": {},
   "outputs": [],
   "source": [
    "# Pilih hanya kolom numerik\n",
    "numeric_df = df.select_dtypes(include=[np.number])\n",
    "\n",
    "# Hitung matriks korelasi\n",
    "correlation_matrix = numeric_df.corr()\n",
    "\n",
    "# Plot heatmap korelasi\n",
    "sns.heatmap(correlation_matrix, annot=True, cmap='coolwarm')\n",
    "plt.show()\n"
   ]
  }
 ],
 "metadata": {
  "kernelspec": {
   "display_name": "secondhand-car-valuation",
   "language": "python",
   "name": "python3"
  },
  "language_info": {
   "codemirror_mode": {
    "name": "ipython",
    "version": 3
   },
   "file_extension": ".py",
   "mimetype": "text/x-python",
   "name": "python",
   "nbconvert_exporter": "python",
   "pygments_lexer": "ipython3",
   "version": "3.9.19"
  }
 },
 "nbformat": 4,
 "nbformat_minor": 2
}
